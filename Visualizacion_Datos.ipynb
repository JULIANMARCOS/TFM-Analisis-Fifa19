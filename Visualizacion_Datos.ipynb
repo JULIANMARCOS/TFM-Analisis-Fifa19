{
 "cells": [
  {
   "cell_type": "markdown",
   "metadata": {},
   "source": [
    "# TFM JULIAN MARCOS VÁZQUEZ\n",
    "\n",
    "# ANÁLISIS CARACTERÍSTICAS DE LOS JUGADORES DEL FIFA 2019\n",
    "\n",
    "# 2. VISUALIZACIÓN DE ALGUNOS DATOS CURIOSOS DEL DATASET "
   ]
  },
  {
   "cell_type": "code",
   "execution_count": 1,
   "metadata": {},
   "outputs": [
    {
     "name": "stdout",
     "output_type": "stream",
     "text": [
      "Populating the interactive namespace from numpy and matplotlib\n"
     ]
    }
   ],
   "source": [
    "# Importo los paquetes necesarios para empezar a trabajar con el fichero\n",
    "\n",
    "import pandas as pd\n",
    "import matplotlib.pyplot as plt\n",
    "%pylab inline\n",
    "%matplotlib inline\n",
    "\n",
    "# Lectura del fichero\n",
    "df = pd.read_csv(\"Jugadores_Fifa2019_limpio.csv\")"
   ]
  },
  {
   "cell_type": "code",
   "execution_count": 2,
   "metadata": {},
   "outputs": [
    {
     "data": {
      "text/html": [
       "<div>\n",
       "<style scoped>\n",
       "    .dataframe tbody tr th:only-of-type {\n",
       "        vertical-align: middle;\n",
       "    }\n",
       "\n",
       "    .dataframe tbody tr th {\n",
       "        vertical-align: top;\n",
       "    }\n",
       "\n",
       "    .dataframe thead th {\n",
       "        text-align: right;\n",
       "    }\n",
       "</style>\n",
       "<table border=\"1\" class=\"dataframe\">\n",
       "  <thead>\n",
       "    <tr style=\"text-align: right;\">\n",
       "      <th></th>\n",
       "      <th>Unnamed: 0</th>\n",
       "      <th>Name</th>\n",
       "      <th>Age</th>\n",
       "      <th>Nationality</th>\n",
       "      <th>Overall</th>\n",
       "      <th>Potential</th>\n",
       "      <th>Club</th>\n",
       "      <th>Value</th>\n",
       "      <th>Wage</th>\n",
       "      <th>Special</th>\n",
       "      <th>...</th>\n",
       "      <th>StandingTackle</th>\n",
       "      <th>SlidingTackle</th>\n",
       "      <th>GKDiving</th>\n",
       "      <th>GKHandling</th>\n",
       "      <th>GKKicking</th>\n",
       "      <th>GKPositioning</th>\n",
       "      <th>GKReflexes</th>\n",
       "      <th>Release Clause</th>\n",
       "      <th>Weight_Kg</th>\n",
       "      <th>Height_cms</th>\n",
       "    </tr>\n",
       "  </thead>\n",
       "  <tbody>\n",
       "    <tr>\n",
       "      <th>0</th>\n",
       "      <td>0</td>\n",
       "      <td>L. Messi</td>\n",
       "      <td>31</td>\n",
       "      <td>Argentina</td>\n",
       "      <td>94</td>\n",
       "      <td>94</td>\n",
       "      <td>FC Barcelona</td>\n",
       "      <td>€110.5M</td>\n",
       "      <td>€565K</td>\n",
       "      <td>2202</td>\n",
       "      <td>...</td>\n",
       "      <td>28.0</td>\n",
       "      <td>26.0</td>\n",
       "      <td>6.0</td>\n",
       "      <td>11.0</td>\n",
       "      <td>15.0</td>\n",
       "      <td>14.0</td>\n",
       "      <td>8.0</td>\n",
       "      <td>€226.5M</td>\n",
       "      <td>72.3</td>\n",
       "      <td>170</td>\n",
       "    </tr>\n",
       "    <tr>\n",
       "      <th>1</th>\n",
       "      <td>1</td>\n",
       "      <td>Cristiano Ronaldo</td>\n",
       "      <td>33</td>\n",
       "      <td>Portugal</td>\n",
       "      <td>94</td>\n",
       "      <td>94</td>\n",
       "      <td>Juventus</td>\n",
       "      <td>€77M</td>\n",
       "      <td>€405K</td>\n",
       "      <td>2228</td>\n",
       "      <td>...</td>\n",
       "      <td>31.0</td>\n",
       "      <td>23.0</td>\n",
       "      <td>7.0</td>\n",
       "      <td>11.0</td>\n",
       "      <td>15.0</td>\n",
       "      <td>14.0</td>\n",
       "      <td>11.0</td>\n",
       "      <td>€127.1M</td>\n",
       "      <td>83.2</td>\n",
       "      <td>188</td>\n",
       "    </tr>\n",
       "    <tr>\n",
       "      <th>2</th>\n",
       "      <td>2</td>\n",
       "      <td>Neymar Jr</td>\n",
       "      <td>26</td>\n",
       "      <td>Brazil</td>\n",
       "      <td>92</td>\n",
       "      <td>93</td>\n",
       "      <td>Paris Saint-Germain</td>\n",
       "      <td>€118.5M</td>\n",
       "      <td>€290K</td>\n",
       "      <td>2143</td>\n",
       "      <td>...</td>\n",
       "      <td>24.0</td>\n",
       "      <td>33.0</td>\n",
       "      <td>9.0</td>\n",
       "      <td>9.0</td>\n",
       "      <td>15.0</td>\n",
       "      <td>15.0</td>\n",
       "      <td>11.0</td>\n",
       "      <td>€228.1M</td>\n",
       "      <td>68.2</td>\n",
       "      <td>175</td>\n",
       "    </tr>\n",
       "    <tr>\n",
       "      <th>3</th>\n",
       "      <td>3</td>\n",
       "      <td>De Gea</td>\n",
       "      <td>27</td>\n",
       "      <td>Spain</td>\n",
       "      <td>91</td>\n",
       "      <td>93</td>\n",
       "      <td>Manchester United</td>\n",
       "      <td>€72M</td>\n",
       "      <td>€260K</td>\n",
       "      <td>1471</td>\n",
       "      <td>...</td>\n",
       "      <td>21.0</td>\n",
       "      <td>13.0</td>\n",
       "      <td>90.0</td>\n",
       "      <td>85.0</td>\n",
       "      <td>87.0</td>\n",
       "      <td>88.0</td>\n",
       "      <td>94.0</td>\n",
       "      <td>€138.6M</td>\n",
       "      <td>76.4</td>\n",
       "      <td>193</td>\n",
       "    </tr>\n",
       "    <tr>\n",
       "      <th>4</th>\n",
       "      <td>4</td>\n",
       "      <td>K. De Bruyne</td>\n",
       "      <td>27</td>\n",
       "      <td>Belgium</td>\n",
       "      <td>91</td>\n",
       "      <td>92</td>\n",
       "      <td>Manchester City</td>\n",
       "      <td>€102M</td>\n",
       "      <td>€355K</td>\n",
       "      <td>2281</td>\n",
       "      <td>...</td>\n",
       "      <td>58.0</td>\n",
       "      <td>51.0</td>\n",
       "      <td>15.0</td>\n",
       "      <td>13.0</td>\n",
       "      <td>5.0</td>\n",
       "      <td>10.0</td>\n",
       "      <td>13.0</td>\n",
       "      <td>€196.4M</td>\n",
       "      <td>70.0</td>\n",
       "      <td>180</td>\n",
       "    </tr>\n",
       "  </tbody>\n",
       "</table>\n",
       "<p>5 rows × 53 columns</p>\n",
       "</div>"
      ],
      "text/plain": [
       "   Unnamed: 0               Name  Age Nationality  Overall  Potential  \\\n",
       "0           0           L. Messi   31   Argentina       94         94   \n",
       "1           1  Cristiano Ronaldo   33    Portugal       94         94   \n",
       "2           2          Neymar Jr   26      Brazil       92         93   \n",
       "3           3             De Gea   27       Spain       91         93   \n",
       "4           4       K. De Bruyne   27     Belgium       91         92   \n",
       "\n",
       "                  Club    Value   Wage  Special  ... StandingTackle  \\\n",
       "0         FC Barcelona  €110.5M  €565K     2202  ...           28.0   \n",
       "1             Juventus     €77M  €405K     2228  ...           31.0   \n",
       "2  Paris Saint-Germain  €118.5M  €290K     2143  ...           24.0   \n",
       "3    Manchester United     €72M  €260K     1471  ...           21.0   \n",
       "4      Manchester City    €102M  €355K     2281  ...           58.0   \n",
       "\n",
       "   SlidingTackle  GKDiving  GKHandling GKKicking  GKPositioning  GKReflexes  \\\n",
       "0           26.0       6.0        11.0      15.0           14.0         8.0   \n",
       "1           23.0       7.0        11.0      15.0           14.0        11.0   \n",
       "2           33.0       9.0         9.0      15.0           15.0        11.0   \n",
       "3           13.0      90.0        85.0      87.0           88.0        94.0   \n",
       "4           51.0      15.0        13.0       5.0           10.0        13.0   \n",
       "\n",
       "   Release Clause  Weight_Kg  Height_cms  \n",
       "0         €226.5M       72.3         170  \n",
       "1         €127.1M       83.2         188  \n",
       "2         €228.1M       68.2         175  \n",
       "3         €138.6M       76.4         193  \n",
       "4         €196.4M       70.0         180  \n",
       "\n",
       "[5 rows x 53 columns]"
      ]
     },
     "execution_count": 2,
     "metadata": {},
     "output_type": "execute_result"
    }
   ],
   "source": [
    "df.head()"
   ]
  },
  {
   "cell_type": "code",
   "execution_count": 3,
   "metadata": {},
   "outputs": [
    {
     "name": "stdout",
     "output_type": "stream",
     "text": [
      "Nationality\n",
      "Afghanistan      4\n",
      "Albania         37\n",
      "Algeria         56\n",
      "Andorra          1\n",
      "Angola          13\n",
      "              ... \n",
      "Uzbekistan       2\n",
      "Venezuela       52\n",
      "Wales          116\n",
      "Zambia           9\n",
      "Zimbabwe        13\n",
      "Name: Name, Length: 161, dtype: int64\n"
     ]
    }
   ],
   "source": [
    "#Representar el número de jugadores por país.\n",
    "#Primero agrupamos y contamos el número de jugadores por país.\n",
    "\n",
    "cantidad=df.groupby(df.Nationality).count()\n",
    "#data['Nationality'].value_counts().head(8)\n",
    "print (cantidad['Name'])"
   ]
  },
  {
   "cell_type": "code",
   "execution_count": 4,
   "metadata": {},
   "outputs": [
    {
     "data": {
      "text/plain": [
       "England        1475\n",
       "Germany        1151\n",
       "Spain           974\n",
       "France          853\n",
       "Argentina       833\n",
       "Brazil          788\n",
       "Italy           579\n",
       "Colombia        570\n",
       "Japan           455\n",
       "Netherlands     426\n",
       "Name: Nationality, dtype: int64"
      ]
     },
     "execution_count": 4,
     "metadata": {},
     "output_type": "execute_result"
    }
   ],
   "source": [
    "top_nacionalidad = df['Nationality'].value_counts().head(10)\n",
    "top_nacionalidad"
   ]
  },
  {
   "cell_type": "code",
   "execution_count": 5,
   "metadata": {},
   "outputs": [
    {
     "data": {
      "image/png": "[encoded data removed]",
      "text/plain": [
       "<Figure size 432x288 with 1 Axes>"
      ]
     },
     "metadata": {
      "needs_background": "light"
     },
     "output_type": "display_data"
    }
   ],
   "source": [
    "x = ('ENG', 'GER', 'SPA', 'ARG', 'FRA', 'BRA', 'ITA', 'COL', 'JAP', 'NL')\n",
    "y = top_nacionalidad\n",
    "\n",
    "plt.bar(x, y, color='g', align='center')\n",
    "plt.scatter(x, y, color='b')\n",
    "        \n",
    "plt.title(\"Jugadores en FIFA 2019 por país\")\n",
    "plt.xlabel(\"Países\")\n",
    "plt.ylabel(\"Número de jugadores\")\n",
    "plt.show()"
   ]
  },
  {
   "cell_type": "code",
   "execution_count": 6,
   "metadata": {},
   "outputs": [
    {
     "data": {
      "text/html": [
       "<div>\n",
       "<style scoped>\n",
       "    .dataframe tbody tr th:only-of-type {\n",
       "        vertical-align: middle;\n",
       "    }\n",
       "\n",
       "    .dataframe tbody tr th {\n",
       "        vertical-align: top;\n",
       "    }\n",
       "\n",
       "    .dataframe thead th {\n",
       "        text-align: right;\n",
       "    }\n",
       "</style>\n",
       "<table border=\"1\" class=\"dataframe\">\n",
       "  <thead>\n",
       "    <tr style=\"text-align: right;\">\n",
       "      <th></th>\n",
       "      <th>Name</th>\n",
       "      <th>Overall</th>\n",
       "      <th>Age</th>\n",
       "      <th>Club</th>\n",
       "      <th>Nationality</th>\n",
       "    </tr>\n",
       "  </thead>\n",
       "  <tbody>\n",
       "    <tr>\n",
       "      <th>0</th>\n",
       "      <td>L. Messi</td>\n",
       "      <td>94</td>\n",
       "      <td>31</td>\n",
       "      <td>FC Barcelona</td>\n",
       "      <td>Argentina</td>\n",
       "    </tr>\n",
       "    <tr>\n",
       "      <th>1</th>\n",
       "      <td>Cristiano Ronaldo</td>\n",
       "      <td>94</td>\n",
       "      <td>33</td>\n",
       "      <td>Juventus</td>\n",
       "      <td>Portugal</td>\n",
       "    </tr>\n",
       "    <tr>\n",
       "      <th>2</th>\n",
       "      <td>Neymar Jr</td>\n",
       "      <td>92</td>\n",
       "      <td>26</td>\n",
       "      <td>Paris Saint-Germain</td>\n",
       "      <td>Brazil</td>\n",
       "    </tr>\n",
       "    <tr>\n",
       "      <th>3</th>\n",
       "      <td>De Gea</td>\n",
       "      <td>91</td>\n",
       "      <td>27</td>\n",
       "      <td>Manchester United</td>\n",
       "      <td>Spain</td>\n",
       "    </tr>\n",
       "    <tr>\n",
       "      <th>4</th>\n",
       "      <td>K. De Bruyne</td>\n",
       "      <td>91</td>\n",
       "      <td>27</td>\n",
       "      <td>Manchester City</td>\n",
       "      <td>Belgium</td>\n",
       "    </tr>\n",
       "    <tr>\n",
       "      <th>5</th>\n",
       "      <td>E. Hazard</td>\n",
       "      <td>91</td>\n",
       "      <td>27</td>\n",
       "      <td>Chelsea</td>\n",
       "      <td>Belgium</td>\n",
       "    </tr>\n",
       "    <tr>\n",
       "      <th>6</th>\n",
       "      <td>L. Modrić</td>\n",
       "      <td>91</td>\n",
       "      <td>32</td>\n",
       "      <td>Real Madrid</td>\n",
       "      <td>Croatia</td>\n",
       "    </tr>\n",
       "    <tr>\n",
       "      <th>7</th>\n",
       "      <td>L. Suárez</td>\n",
       "      <td>91</td>\n",
       "      <td>31</td>\n",
       "      <td>FC Barcelona</td>\n",
       "      <td>Uruguay</td>\n",
       "    </tr>\n",
       "    <tr>\n",
       "      <th>8</th>\n",
       "      <td>Sergio Ramos</td>\n",
       "      <td>91</td>\n",
       "      <td>32</td>\n",
       "      <td>Real Madrid</td>\n",
       "      <td>Spain</td>\n",
       "    </tr>\n",
       "  </tbody>\n",
       "</table>\n",
       "</div>"
      ],
      "text/plain": [
       "                Name  Overall  Age                 Club Nationality\n",
       "0           L. Messi       94   31         FC Barcelona   Argentina\n",
       "1  Cristiano Ronaldo       94   33             Juventus    Portugal\n",
       "2          Neymar Jr       92   26  Paris Saint-Germain      Brazil\n",
       "3             De Gea       91   27    Manchester United       Spain\n",
       "4       K. De Bruyne       91   27      Manchester City     Belgium\n",
       "5          E. Hazard       91   27              Chelsea     Belgium\n",
       "6          L. Modrić       91   32          Real Madrid     Croatia\n",
       "7          L. Suárez       91   31         FC Barcelona     Uruguay\n",
       "8       Sergio Ramos       91   32          Real Madrid       Spain"
      ]
     },
     "execution_count": 6,
     "metadata": {},
     "output_type": "execute_result"
    }
   ],
   "source": [
    "#Para la viualización utilizaré Seaborn, como vimos en el capítulo 05-Visualization_introduction (SEmana 3)\n",
    "import seaborn as sns\n",
    "\n",
    "# Muestro los 10 jugadoes con mayor puntuación global\n",
    "df[df['Overall']>90][['Name','Overall', 'Age', 'Club', 'Nationality']]"
   ]
  },
  {
   "cell_type": "code",
   "execution_count": null,
   "metadata": {},
   "outputs": [],
   "source": []
  },
  {
   "cell_type": "code",
   "execution_count": 7,
   "metadata": {},
   "outputs": [
    {
     "data": {
      "text/plain": [
       "Text(0, 0.5, 'Puntuación media')"
      ]
     },
     "execution_count": 7,
     "metadata": {},
     "output_type": "execute_result"
    },
    {
     "data": {
      "image/png": "[encoded data removed]",
      "text/plain": [
       "<Figure size 432x288 with 1 Axes>"
      ]
     },
     "metadata": {
      "needs_background": "light"
     },
     "output_type": "display_data"
    }
   ],
   "source": [
    "x = ('England', 'Germany', 'Spain', 'Argentina', 'France', 'Brazil', 'Italy', 'Colombia', 'Japan', 'Netherlands')\n",
    "\n",
    "#Para no mostrar todos los países nos quedamos con los jugadores que están en los Top 10 que hemos calculado antes\n",
    "paises =  df.loc[df['Nationality'].isin(x)] \n",
    "\n",
    "# Mostramos los boxplot que muestra la distribución de la puntuación media\n",
    "# de los 10 países con mayor número de jugadores en el juego\n",
    "bp = sns.boxplot(x = paises['Nationality'], y = df['Overall'])\n",
    "bp.set_title(label = 'Distribución de puntuación media en los países con mayor número de jugadores', fontsize = 20)\n",
    "bp.set_xlabel(xlabel = 'Países (Top Ten Jugadores)', fontsize = 12)\n",
    "bp.set_ylabel(ylabel = 'Puntuación media', fontsize = 12)"
   ]
  },
  {
   "cell_type": "code",
   "execution_count": 8,
   "metadata": {},
   "outputs": [],
   "source": [
    "# Viendo los datos podemos ver como Brazil es el país los datos más concentrados y simétricos. \n",
    "# El 50% de los datos se encuentran entre 68 y 74 aproximadamente y la mediana se encuentra justo en la mitad (71).\n",
    "# Los bigotes que representan tanto el 25% de la parte inferior como superior, tampoco están muy separados.\n",
    "# Existen jugadores con valores fuera de esta distribución, considerados \"valores atípicos\" o \"outliers\""
   ]
  },
  {
   "cell_type": "code",
   "execution_count": null,
   "metadata": {},
   "outputs": [],
   "source": []
  }
 ],
 "metadata": {
  "kernelspec": {
   "display_name": "Python 3",
   "language": "python",
   "name": "python3"
  },
  "language_info": {
   "codemirror_mode": {
    "name": "ipython",
    "version": 3
   },
   "file_extension": ".py",
   "mimetype": "text/x-python",
   "name": "python",
   "nbconvert_exporter": "python",
   "pygments_lexer": "ipython3",
   "version": "3.7.3"
  }
 },
 "nbformat": 4,
 "nbformat_minor": 2
}
